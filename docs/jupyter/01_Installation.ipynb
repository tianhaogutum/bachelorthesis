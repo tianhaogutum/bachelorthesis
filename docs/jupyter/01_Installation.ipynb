{
 "cells": [
  {
   "cell_type": "markdown",
   "metadata": {},
   "source": [
    "DKM - changed from original\n",
    "\n",
    "# Installation\n",
    "\n",
    "In this tutorial we show how to install OpenSBT and execute a dummy AEB system in a simplified simulator.\n",
    "\n",
    "The installation has been tested with Ubuntu 22.04 and Python 3.8. It is recommended having installed git.\n",
    "\n",
    "Using git we first download the OpenSBT repo. When you want to install OpenSBT independent of this tutorial, you need first to open a terminal in the folder where you want to install OpenSBT and clone the repository via (the \"!\" is only required if statement is executed in this jupyter notebook)\n"
   ]
  },
  {
   "cell_type": "code",
   "execution_count": null,
   "metadata": {},
   "outputs": [
    {
     "ename": "",
     "evalue": "",
     "output_type": "error",
     "traceback": [
      "\u001b[1;31mRunning cells with 'Python 3.10.12' requires the ipykernel package.\n",
      "\u001b[1;31mRun the following command to install 'ipykernel' into the Python environment. \n",
      "\u001b[1;31mCommand: '/bin/python3 -m pip install ipykernel -U --user --force-reinstall'"
     ]
    }
   ],
   "source": [
    "# DKM - skipped\n",
    "!git clone https://git.fortiss.org/opensbt/opensbt-core.git"
   ]
  },
  {
   "cell_type": "markdown",
   "metadata": {},
   "source": [
    "Now you need to switch to the OpenSBT folder via:"
   ]
  },
  {
   "cell_type": "code",
   "execution_count": null,
   "metadata": {},
   "outputs": [],
   "source": [
    "# DKM - skipped\n",
    "cd opensbt-core"
   ]
  },
  {
   "cell_type": "code",
   "execution_count": null,
   "metadata": {},
   "outputs": [],
   "source": []
  },
  {
   "cell_type": "markdown",
   "metadata": {},
   "source": [
    "Then install all dependencies of OpenSBT with the following commands (installation might take some seconds, as libraries need to be downloaded).\n"
   ]
  },
  {
   "cell_type": "code",
   "execution_count": null,
   "metadata": {
    "scrolled": true
   },
   "outputs": [],
   "source": [
    "# DKM - skipped; managed with Poetry\n",
    "!pip install -r requirements.txt "
   ]
  },
  {
   "cell_type": "markdown",
   "metadata": {},
   "source": [
    "## Testing Installation\n",
    "\n",
    "We can now test the installation of OpenSBT by running our first experiment: Testing a simplified Automated Emergency Braking system in avoiding a collision with a pedestrian. The experiment is already defined in OpenSBT in the file called `default_experiments.py` and has the name \"5\". Note, that this is a very simplified system and is only for explaining the usage of OpenSBT.\n",
    "\n",
    "_Note: Only linear motion planning, no comprehensive vehicles dynamics or environmental simulation is used. This system is just for testing the installation of OpenSBT._"
   ]
  },
  {
   "cell_type": "markdown",
   "metadata": {},
   "source": [
    "Then we can start then the experiment by its name:"
   ]
  },
  {
   "cell_type": "code",
   "execution_count": null,
   "metadata": {
    "scrolled": true
   },
   "outputs": [],
   "source": [
    "# DKM - skipped; ran this in terminal with: poetry run python run.py -e 5\n",
    "!python run.py -e 5"
   ]
  },
  {
   "cell_type": "markdown",
   "metadata": {},
   "source": [
    "We can now inspect the created result artefacts which are located in the results folder. We can directly observe them from this jupyter notebook:"
   ]
  },
  {
   "cell_type": "code",
   "execution_count": 1,
   "metadata": {
    "scrolled": true
   },
   "outputs": [
    {
     "name": "stdout",
     "output_type": "stream",
     "text": [
      "c:\\Users\\dmarson\\Documents\\Projects\\Marson_PhD\\opensbt-core-fork\\docs\n",
      "c:\\Users\\dmarson\\Documents\\Projects\\Marson_PhD\\opensbt-core-fork\n",
      "c:\\Users\\dmarson\\Documents\\Projects\\Marson_PhD\\opensbt-core-fork/results/DummySimulatorProblem/NSGA2/\n",
      "     Index  orientation_ego  velocity_ego  orientation_ped  velocity_ped  \\\n",
      "0        0        74.611133      8.399509        54.534017      0.640162   \n",
      "1        1        74.611133      8.399509        54.534017      0.640162   \n",
      "2        2        74.611133      8.399509        54.534017      0.640162   \n",
      "3        3        75.326569      8.181979        54.666256      0.619974   \n",
      "4        4        74.611133      8.399509        54.534017      0.640162   \n",
      "..     ...              ...           ...              ...           ...   \n",
      "585    585        77.568021     10.000000         1.816803      0.276244   \n",
      "586    586        75.107229      8.515807        13.598501      0.526942   \n",
      "587    587        77.618685     10.000000        13.778000      0.256190   \n",
      "588    588        75.106488      8.444987        13.693924      0.613125   \n",
      "589    589        75.107043      8.445027        13.693924      0.613125   \n",
      "\n",
      "     Fitness_Min distance  Fitness_Velocity at min distance  \n",
      "0                0.124180                         -8.399509  \n",
      "1                0.124180                         -8.399509  \n",
      "2                0.124180                         -8.399509  \n",
      "3                0.210698                         -8.181979  \n",
      "4                0.124180                         -8.399509  \n",
      "..                    ...                               ...  \n",
      "585              0.173903                        -10.000000  \n",
      "586              0.104590                         -8.515807  \n",
      "587              0.226551                        -10.000000  \n",
      "588              0.053331                         -8.444987  \n",
      "589              0.082406                         -8.445027  \n",
      "\n",
      "[590 rows x 7 columns]\n"
     ]
    }
   ],
   "source": [
    "import pandas as pd\n",
    "from pathlib import Path\n",
    "import os\n",
    "\n",
    "# Define the current directory\n",
    "current_dir = os.path.dirname(os.path.abspath('')) # Can't use __file__ in jupyter, I expect this to point to \"docs\"\n",
    "print(current_dir)\n",
    "\n",
    "# Home directory is two up from current directory\n",
    "home_dir = os.path.abspath(os.path.join(current_dir, os.pardir))\n",
    "print(home_dir)\n",
    "\n",
    "# Adjust to results folder being placed in project home directory\n",
    "# exp_folder = os.getcwd() + f\"/results/DummySimulatorProblem/NSGA2/\"\n",
    "exp_folder = home_dir + f\"/results/DummySimulatorProblem/NSGA2/\"\n",
    "\n",
    "print(exp_folder)\n",
    "paths = sorted(Path(exp_folder).iterdir(), key=os.path.getmtime)\n",
    "results_path = str(paths[-1])\n",
    "df = pd.read_csv(f'{results_path}/all_critical_testcases.csv')\n",
    "print(df)"
   ]
  },
  {
   "cell_type": "code",
   "execution_count": null,
   "metadata": {},
   "outputs": [],
   "source": [
    "import pandas as pd\n",
    "import os\n",
    "df = pd.read_csv(f'{results_path}/all_critical_testcases.csv')\n",
    "print(df)"
   ]
  },
  {
   "cell_type": "markdown",
   "metadata": {},
   "source": [
    "Further, we can inspect the visualization of the scenarios (yellow: ego vehicle, red: pedestrian). In the follow ing output, scenarios which are considered as fitness-optimal are shown. The visualization supports illustration of multiple actors."
   ]
  },
  {
   "cell_type": "code",
   "execution_count": null,
   "metadata": {},
   "outputs": [],
   "source": [
    "from IPython.display import Image\n",
    "import os\n",
    "n = 4 # show max n images\n",
    "folder_gifs = results_path + os.sep + \"gif\"\n",
    "i = 0\n",
    "for f in os.listdir(folder_gifs):\n",
    "    fpath = folder_gifs + os.sep + f\n",
    "    if os.path.isfile(fpath) and i < n:\n",
    "      img = Image(open(fpath,'rb').read(), width=300, height=300)\n",
    "      display(img)\n",
    "      i = i+1"
   ]
  },
  {
   "cell_type": "markdown",
   "metadata": {},
   "source": [
    "We can also inspect pair-wise test input space plots which are generated for all test cases encountered during search. \n",
    "\n",
    "Purple boxes depict intervals in the search space where the SUT is assumed to be critical. These regions are identified by Decision Tree learning. Note, that a region is only considered as critical when the ratio between critical and all tests inside that region is above a threshold (i.e., 0.5). The threshold can be adapted in the code."
   ]
  },
  {
   "cell_type": "code",
   "execution_count": null,
   "metadata": {
    "scrolled": true
   },
   "outputs": [],
   "source": [
    "from IPython.display import Image\n",
    "import os\n",
    "n = 3 # show max n images\n",
    "folder_gifs = results_path + os.sep + \"design_space\"\n",
    "i = 0\n",
    "for f in os.listdir(folder_gifs):\n",
    "    # checking if it is a file\n",
    "    fpath = folder_gifs + os.sep + f\n",
    "    if os.path.isfile(fpath) and os.path.splitext(fpath)[1] == '.png' and  i < n:\n",
    "      img = Image(filename=fpath, width=500, height=500)\n",
    "      display(img)\n",
    "      i = i+1"
   ]
  },
  {
   "cell_type": "markdown",
   "metadata": {},
   "source": [
    "Also we can inspect plots that visualize the fitness values of all evaluated test inputs, which critical and non-critical.\n"
   ]
  },
  {
   "cell_type": "code",
   "execution_count": null,
   "metadata": {},
   "outputs": [],
   "source": [
    "from IPython.display import Image\n",
    "import os\n",
    "n = 3 # show max n images\n",
    "folder_gifs = results_path + os.sep + \"objective_space\"\n",
    "i = 0\n",
    "for f in os.listdir(folder_gifs):\n",
    "    # checking if it is a file\n",
    "    fpath = folder_gifs + os.sep + f\n",
    "    print(fpath)\n",
    "    print(os.path.isfile(fpath))\n",
    "    if os.path.isfile(fpath) and os.path.splitext(fpath)[1] == '.png' and  i < n:\n",
    "      img = Image(filename=fpath, width=500, height=500)\n",
    "      display(img)\n",
    "      i = i+1    "
   ]
  },
  {
   "cell_type": "markdown",
   "metadata": {},
   "source": [
    "**Note: In the fitness space plot the velocity is negative as the corresponding fitness functions are inverted and minimized internally by pymoo.**"
   ]
  }
 ],
 "metadata": {
  "kernelspec": {
   "display_name": "try-opensbt-ELJx6Lx--py3.8",
   "language": "python",
   "name": "python3"
  },
  "language_info": {
   "codemirror_mode": {
    "name": "ipython",
    "version": 3
   },
   "file_extension": ".py",
   "mimetype": "text/x-python",
   "name": "python",
   "nbconvert_exporter": "python",
   "pygments_lexer": "ipython3",
   "version": "3.10.12"
  }
 },
 "nbformat": 4,
 "nbformat_minor": 4
}
